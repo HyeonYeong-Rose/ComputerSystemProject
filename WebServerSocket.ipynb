{
  "nbformat": 4,
  "nbformat_minor": 0,
  "metadata": {
    "kernelspec": {
      "display_name": "Python 3",
      "language": "python",
      "name": "python3"
    },
    "language_info": {
      "codemirror_mode": {
        "name": "ipython",
        "version": 3
      },
      "file_extension": ".py",
      "mimetype": "text/x-python",
      "name": "python",
      "nbconvert_exporter": "python",
      "pygments_lexer": "ipython3",
      "version": "3.7.3"
    },
    "colab": {
      "name": "HW4_WebServerSocket_19102092_HyeonYeong_Seo.ipynb",
      "provenance": [],
      "include_colab_link": true
    }
  },
  "cells": [
    {
      "cell_type": "markdown",
      "metadata": {
        "id": "view-in-github",
        "colab_type": "text"
      },
      "source": [
        "<a href=\"https://colab.research.google.com/github/HyeonYeong-Rose/Project/blob/main/WebServerSocket.ipynb\" target=\"_parent\"><img src=\"https://colab.research.google.com/assets/colab-badge.svg\" alt=\"Open In Colab\"/></a>"
      ]
    },
    {
      "cell_type": "code",
      "metadata": {
        "id": "OiXnjLZa4ZUi"
      },
      "source": [
        "import socket\n",
        "#SOCK_STREAM is used for TCP\n",
        "\n",
        "serverSocket = socket.socket(socket.AF_INET, socket.SOCK_STREAM)\n",
        "\n",
        "serverPort = 6789\n",
        "\n",
        "serverSocket.bind((\"\", serverPort))\n",
        "\n",
        "serverSocket.listen(1)"
      ],
      "execution_count": null,
      "outputs": []
    },
    {
      "cell_type": "code",
      "metadata": {
        "id": "yeMtcKBU4ZUj",
        "outputId": "bedaa3fd-c445-4a9b-d11b-7a11c161e0b8"
      },
      "source": [
        "while 1:\n",
        "\t\t\n",
        "\tprint (\"Ready to next Battle\")\n",
        "\n",
        "\t# Set up a new connection from the client\n",
        "\n",
        "\tconnectionSocket, addr= serverSocket.accept() #Three handshaking ACK\n",
        " \n",
        "\ttry :\n",
        "\n",
        "\t\tmessage = connectionSocket.recv(1024)\n",
        "\n",
        "\t\tfilename = message.split()[1]\n",
        "\t\t\n",
        "\t\tfile = open(filename[1:])\n",
        "        \n",
        "\t\toutputdata = file.read()\n",
        "\t\tprint(outputdata)\n",
        "        \n",
        "\t\tconnectionSocket.send(\"HTTP/1.1 200 OK\\r\\n\\r\\n\".encode())\n",
        "\n",
        "\t\tconnectionSocket.send(outputdata.encode())\n",
        "\n",
        "\t\tconnectionSocket.send(\"\\r\\n\".encode())\n",
        "        \n",
        "\t\tprint(\"hi\")\n",
        "        \n",
        "\t\tconnectionSocket.close()\n",
        "\n",
        "\t#except IOError:\n",
        "\texcept de:\n",
        "\t\tconnectionSocket.send(\"HTTP/1.1 404 Not Found\\r\\n\\r\\n\".encode())\n",
        "\t\tconnectionSocket.close()\n",
        "\n",
        "serverSocket.close()"
      ],
      "execution_count": null,
      "outputs": [
        {
          "output_type": "stream",
          "text": [
            "Ready to next Battle\n"
          ],
          "name": "stdout"
        }
      ]
    },
    {
      "cell_type": "code",
      "metadata": {
        "id": "Pr35cC0k4ZUk"
      },
      "source": [
        ""
      ],
      "execution_count": null,
      "outputs": []
    }
  ]
}